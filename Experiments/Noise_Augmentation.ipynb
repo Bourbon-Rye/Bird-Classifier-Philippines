{
  "cells": [
    {
      "cell_type": "markdown",
      "metadata": {
        "id": "YestQHZN8iym"
      },
      "source": [
        "# Noise Augmentation\n"
      ]
    },
    {
      "cell_type": "code",
      "execution_count": null,
      "metadata": {},
      "outputs": [],
      "source": [
        "#Importing Libraries for Audio Editing and Plotting\n",
        "import librosa\n",
        "import librosa.display\n",
        "import pandas as pd\n",
        "import os\n",
        "from pathlib import Path\n",
        "import noisereduce as nr\n",
        "import random\n",
        "import soundfile as sf"
      ]
    },
    {
      "cell_type": "code",
      "execution_count": null,
      "metadata": {},
      "outputs": [],
      "source": [
        "#Load audio files using Librosa\n",
        "download_path = Path.cwd()/'metadata'/'cnt_Philippinesgrp_birds'\n",
        "data_path = Path.cwd()\n",
        "\n",
        "df = pd.DataFrame()\n",
        "for file in os.listdir(download_path):\n",
        "    if 'csv' in file:\n",
        "        filepath = os.path.join(download_path, file)\n",
        "        if df.empty:\n",
        "            df = pd.read_csv(filepath)\n",
        "        else:\n",
        "            temp_df = pd.read_csv(filepath)\n",
        "            df = pd.concat([df, temp_df])\n",
        "    \n",
        "df['recordings__en'] = df['recordings__en'].apply(lambda x: x.replace(' ', ''))\n",
        "df['relative_path'] = '/audio' + '/' + df['recordings__en'].astype(str) + '/' + df['recordings__id'].astype(str) + '.mp3'\n",
        "df = df[['recordings__en', 'relative_path', 'recordings__file-name', 'recordings__id']]\n",
        "\n",
        "# Pick Only 10 for Labels\n",
        "# PhilippineBulbul 60\n",
        "# Balicassiao 59\n",
        "# White-earedBrownDove 57\n",
        "# LuzonHawk-Owl 51\n",
        "# PhilippineCoucal 45\n",
        "# White-browedShortwing 43\n",
        "# ElegantTit 42\n",
        "# Long-tailedBushWarbler 42\n",
        "# White-ventedWhistler 38\n",
        "# Grey-backedTailorbird 36\n",
        "\n",
        "df = df[df['recordings__en'].isin(['PhilippineBulbul', 'Balicassiao', 'White-earedBrownDove', 'LuzonHawk-Owl', 'PhilippineCoucal', 'White-browedShortwing', 'ElegantTit',\n",
        "                        'Long-tailedBushWarbler', 'White-ventedWhistler', 'Grey-backedTailorbird'])]\n",
        "\n",
        "#Clean the Data\n",
        "labels = df['recordings__en']\n",
        "labels_unique = set(labels)\n",
        "keys = {key: value for key, value in zip(labels_unique, range(len(labels_unique)))}\n",
        "\n",
        "df2 = pd.Series(keys).to_frame('labels')\n",
        "df2 = pd.DataFrame(df2).reset_index()\n",
        "df2.columns = ['recordings__en', 'labels']\n",
        "\n",
        "#print(df2.drop_duplicates())\n",
        "\n",
        "df = pd.merge(df, df2, on=\"recordings__en\")\n",
        "\n",
        "df = df.dropna()\n",
        "df = df.drop('recordings__file-name', axis=1)\n",
        "\n",
        "df.reset_index(inplace = True)     \n",
        "print('\\nRow Count:', df.shape[0])    "
      ]
    },
    {
      "cell_type": "code",
      "execution_count": null,
      "metadata": {},
      "outputs": [],
      "source": [
        "for i in df.index:\n",
        "    print(df['relative_path'][i], df['labels'][i])\n",
        "    a_file = str(data_path) + df['relative_path'][i]\n",
        "    dur, sr = librosa.load(a_file)\n",
        "    scale, sr = librosa.load(a_file, duration=4, offset=random.random()*librosa.get_duration(dur))\n",
        "    scale = librosa.resample(scale, orig_sr=sr, target_sr=44100, res_type='kaiser_best')\n",
        "    scale = nr.reduce_noise(y=scale, sr=44100)\n",
        "    \n",
        "    address = str(data_path) + '/augaudio' + '/' + df['recordings__id'][i].astype(str) + '.wav'\n",
        "    print(address)\n",
        "    sf.write(address, scale, sr)"
      ]
    }
  ],
  "metadata": {
    "colab": {
      "provenance": []
    },
    "kernelspec": {
      "display_name": "Python 3",
      "name": "python3"
    },
    "language_info": {
      "codemirror_mode": {
        "name": "ipython",
        "version": 3
      },
      "file_extension": ".py",
      "mimetype": "text/x-python",
      "name": "python",
      "nbconvert_exporter": "python",
      "pygments_lexer": "ipython3",
      "version": "3.11.3"
    }
  },
  "nbformat": 4,
  "nbformat_minor": 0
}
